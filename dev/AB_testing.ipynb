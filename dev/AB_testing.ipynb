{
 "cells": [
  {
   "cell_type": "markdown",
   "id": "1dceec8b-d718-49fd-8113-bbea24ef889b",
   "metadata": {},
   "source": [
    "### The problem (Taken from Kaggle Marketing A/B Testing)\n",
    "\n",
    "A marketing campaign was run to improve the sale. 96% received an advertisement while 4% didn't.\n",
    "The idea of the dataset is to analyze the groups, find if the ads were successful, how much the company can make from the ads, and if the difference between the groups is statistically significant.\n",
    "\n",
    "1. Data dictionary:\n",
    "\n",
    "    user id: User ID (unique)\n",
    "    test group: If \"ad\" the person saw the advertisement, if \"psa\" they only saw the public service announcement\n",
    "    converted: If a person bought the product then True, else is False\n",
    "    total ads: Amount of ads seen by person\n",
    "    most ads day: Day that the person saw the biggest amount of ads\n",
    "    most ads hour: Hour of day that the person saw the biggest amount of ads\n",
    "\n",
    "2. Data preparation:\n",
    "\n",
    "   We randomly took only 2% of the original dataset (11,762 out of 588,100) for the sake of simplicity and minimizing the occupied GIT memory (and cloud run in future).\n",
    "   The dataset is checked out for missing values and data types. There is no missing values.\n",
    "   To keep A/B test clean, we'll only focus on test group (ad) vs control group (psa) in terms of the variable 'converted'.\n",
    "\n",
    "3. A/B testing:\n",
    "\n",
    "   Will be done by comparing the conversion rate diference between ad the test and control groups.\n",
    "\n",
    "4. Measure the statistical strength of the test:\n",
    "   \n",
    "   Z-Test will be done and P-value will be measured.\n",
    "   \n",
    "   Z-Test for Two Proportions:\n",
    "\n",
    "   Here, the converted variable is binary, so we’re comparing two proportions (conversion rates) from two independent Bernoulli samples.      Hence, the Null Hypothesis can be defines this way:\n",
    "   \n",
    "   Null Hypothesis (H0): The two population proportions are equal (no difference in conversion rate).\n",
    "   Alternative Hypothesis (H1): The proportions are not equal.\n",
    "\n",
    "   Let's assume ad and psa are groups A and B as follows.\n",
    "\n",
    "   Group A (ad):\n",
    "   n1 users\n",
    "   x1 conversions\n",
    "   p1 = x1/n1 conversion rate\n",
    "\n",
    "   Group B (psa):\n",
    "   n2 users\n",
    "   x2 conversions\n",
    "   p2 = x2/n2 conversion rate\n",
    "\n",
    "   Then using formula for Z-statistic we can define:\n",
    "   p = (x1 + x2) / (n1 + n2) (total conversion rate or probability)\n",
    "   SE = (p(1−p)(1/n1 + 1/n2))^0.5\n",
    "\n",
    "   then the z-score that tells how many standard errors apart the two proportions are can be calculated:\n",
    "   z = (p1 − p2) / SE\n",
    "\n",
    "   Z-score is an good indicator for the statical strength of causal inference we need here and is interpreted as below:\n",
    "   If ∣z∣ is large enough (usially >= 2), the p-value (area under the normal curve beyond ±z) will be small.\n",
    "   A small p-value (typically < 0.05) lets us reject the Null Hypothesis and conclude the proportions differ significantly.\n",
    "\n",
    "5. As was said, the other variables are not need for the A/B testing however the can be useful for Post-hoc Optimization. In other words, after proving the campaign worked, we might wonder:\n",
    "    What ad frequency is optimal?\n",
    "    What time/day performs best?\n",
    "\n",
    "    These are possible with exploratory/predictive modeling that will help to optimize campaigns by finding the best ad frequency, etc.\n",
    "   "
   ]
  },
  {
   "cell_type": "code",
   "execution_count": 1,
   "id": "6fa6464a-27b0-4cf6-9a83-3860d82c3469",
   "metadata": {},
   "outputs": [],
   "source": [
    "    # Import the required libraries\n",
    "import pandas as pd\n",
    "from statsmodels.stats.proportion import proportions_ztest\n",
    "import sys\n",
    "import os\n",
    "\n",
    "    # And set the absolut path of the project for both importing modules and data\n",
    "sys.path.append(os.path.abspath(\"..\"))\n",
    "project_root = os.path.abspath(\"..\")"
   ]
  },
  {
   "cell_type": "code",
   "execution_count": 5,
   "id": "c569d2ab-b4f1-4524-9e23-82a9fdb0b38f",
   "metadata": {},
   "outputs": [
    {
     "data": {
      "text/html": [
       "<div>\n",
       "<style scoped>\n",
       "    .dataframe tbody tr th:only-of-type {\n",
       "        vertical-align: middle;\n",
       "    }\n",
       "\n",
       "    .dataframe tbody tr th {\n",
       "        vertical-align: top;\n",
       "    }\n",
       "\n",
       "    .dataframe thead th {\n",
       "        text-align: right;\n",
       "    }\n",
       "</style>\n",
       "<table border=\"1\" class=\"dataframe\">\n",
       "  <thead>\n",
       "    <tr style=\"text-align: right;\">\n",
       "      <th></th>\n",
       "      <th>user id</th>\n",
       "      <th>test group</th>\n",
       "      <th>converted</th>\n",
       "      <th>total ads</th>\n",
       "      <th>most ads day</th>\n",
       "      <th>most ads hour</th>\n",
       "    </tr>\n",
       "  </thead>\n",
       "  <tbody>\n",
       "    <tr>\n",
       "      <th>0</th>\n",
       "      <td>1412735</td>\n",
       "      <td>ad</td>\n",
       "      <td>False</td>\n",
       "      <td>2</td>\n",
       "      <td>Saturday</td>\n",
       "      <td>18</td>\n",
       "    </tr>\n",
       "    <tr>\n",
       "      <th>1</th>\n",
       "      <td>1205011</td>\n",
       "      <td>ad</td>\n",
       "      <td>False</td>\n",
       "      <td>1</td>\n",
       "      <td>Saturday</td>\n",
       "      <td>19</td>\n",
       "    </tr>\n",
       "    <tr>\n",
       "      <th>2</th>\n",
       "      <td>1009581</td>\n",
       "      <td>ad</td>\n",
       "      <td>False</td>\n",
       "      <td>11</td>\n",
       "      <td>Thursday</td>\n",
       "      <td>16</td>\n",
       "    </tr>\n",
       "    <tr>\n",
       "      <th>3</th>\n",
       "      <td>1613192</td>\n",
       "      <td>ad</td>\n",
       "      <td>False</td>\n",
       "      <td>109</td>\n",
       "      <td>Friday</td>\n",
       "      <td>17</td>\n",
       "    </tr>\n",
       "    <tr>\n",
       "      <th>4</th>\n",
       "      <td>1524027</td>\n",
       "      <td>ad</td>\n",
       "      <td>False</td>\n",
       "      <td>31</td>\n",
       "      <td>Saturday</td>\n",
       "      <td>18</td>\n",
       "    </tr>\n",
       "  </tbody>\n",
       "</table>\n",
       "</div>"
      ],
      "text/plain": [
       "   user id test group  converted  total ads most ads day  most ads hour\n",
       "0  1412735         ad      False          2     Saturday             18\n",
       "1  1205011         ad      False          1     Saturday             19\n",
       "2  1009581         ad      False         11     Thursday             16\n",
       "3  1613192         ad      False        109       Friday             17\n",
       "4  1524027         ad      False         31     Saturday             18"
      ]
     },
     "execution_count": 5,
     "metadata": {},
     "output_type": "execute_result"
    }
   ],
   "source": [
    "### 1. load and explore the data\n",
    "\n",
    "file_path = os.path.join(project_root, \"data\", \"marketing_AB.csv\")  # Ensure this file is in the same directory\n",
    "data = pd.read_csv(file_path)\n",
    "data.head()"
   ]
  },
  {
   "cell_type": "code",
   "execution_count": 6,
   "id": "5c4c3c0b-0d1f-4120-a3c4-de6fc4282115",
   "metadata": {},
   "outputs": [
    {
     "name": "stdout",
     "output_type": "stream",
     "text": [
      "<class 'pandas.core.frame.DataFrame'>\n",
      "RangeIndex: 11762 entries, 0 to 11761\n",
      "Data columns (total 6 columns):\n",
      " #   Column         Non-Null Count  Dtype \n",
      "---  ------         --------------  ----- \n",
      " 0   user id        11762 non-null  int64 \n",
      " 1   test group     11762 non-null  object\n",
      " 2   converted      11762 non-null  bool  \n",
      " 3   total ads      11762 non-null  int64 \n",
      " 4   most ads day   11762 non-null  object\n",
      " 5   most ads hour  11762 non-null  int64 \n",
      "dtypes: bool(1), int64(3), object(2)\n",
      "memory usage: 471.1+ KB\n"
     ]
    }
   ],
   "source": [
    "# From the this table,we'll see that there is no missing data\n",
    "data.info()"
   ]
  },
  {
   "cell_type": "code",
   "execution_count": 21,
   "id": "8f40afaf-4250-4df9-bcd1-532160c0be84",
   "metadata": {},
   "outputs": [
    {
     "name": "stdout",
     "output_type": "stream",
     "text": [
      "\n",
      "Test groups statistics:\n",
      "--------------------------------------------------\n",
      "            sum  count  conversion_rate\n",
      "test group                             \n",
      "ad          293  11298         0.025934\n",
      "psa           5    464         0.010776\n"
     ]
    }
   ],
   "source": [
    "### 2. A/B Test Analysis: Ad vs PSA Group\n",
    "\n",
    "# 2.1 Group summary\n",
    "\n",
    "group_conversion = data.groupby('test group')['converted'].agg(['sum', 'count'])\n",
    "group_conversion['conversion_rate'] = group_conversion['sum'] / group_conversion['count']\n",
    "print(\"\\nTest groups statistics:\")\n",
    "print(\"-\" * 50)\n",
    "print(group_conversion)"
   ]
  },
  {
   "cell_type": "code",
   "execution_count": 23,
   "id": "cdfc678a-7e8b-4aad-b7ad-ecd48e960fb1",
   "metadata": {},
   "outputs": [
    {
     "name": "stdout",
     "output_type": "stream",
     "text": [
      "\n",
      "Statistical strength indicators:\n",
      "--------------------------------------------------\n",
      "Z-statistic: 2.04\n",
      "P-value: 0.0417\n"
     ]
    }
   ],
   "source": [
    "# 2.2 Statistical strength indicators. Z-Test and p-value for Proportions\n",
    "# We can calculate the z-score for this table using the folrmula given in the problem explanation part of this notebook, however using\n",
    "# the imported proportions_ztest functions makes it easier.\n",
    "\n",
    "z_stat, p_val = proportions_ztest(count=group_conversion['sum'], nobs=group_conversion['count'])\n",
    "print(\"\\nStatistical strength indicators:\")\n",
    "print(\"-\" * 50)\n",
    "print(f\"Z-statistic: {z_stat:.2f}\")\n",
    "print(f\"P-value: {p_val:.4f}\")"
   ]
  },
  {
   "cell_type": "code",
   "execution_count": 29,
   "id": "af7efd2f-d83d-436e-8115-ff3ff22ae9d3",
   "metadata": {},
   "outputs": [
    {
     "name": "stdout",
     "output_type": "stream",
     "text": [
      "\n",
      "Conversion Rates:\n",
      "--------------------------------------------------\n",
      "Treatment group (ad):  0.02593379359178616\n",
      "Control group (psa):  0.010775862068965518\n",
      "\n",
      "Conclusion:\n",
      "**************************************************\n",
      "RELIABLE: The difference in conversion rates for the treatment and control groups is statistically significant (p < 0.05).\n"
     ]
    }
   ],
   "source": [
    "# Conclusion\n",
    "\n",
    "print(\"\\nConversion Rates:\")\n",
    "print(\"-\" * 50)\n",
    "print(\"Treatment group (ad): \", group_conversion['conversion_rate'].ad)\n",
    "print(\"Control group (psa): \", group_conversion['conversion_rate'].psa)\n",
    "\n",
    "print(\"\\nConclusion:\")\n",
    "print(\"*\" * 50)\n",
    "if p_val < 0.05:\n",
    "    print(\"RELIABLE: The difference in conversion rates for the treatment and control groups is statistically significant (p < 0.05).\")\n",
    "else:\n",
    "    print(\"QUESTIONABLE:  The difference in conversion rates for the treatment and control groups is not statistically significant (p ≥ 0.05).\")\n"
   ]
  },
  {
   "cell_type": "code",
   "execution_count": null,
   "id": "43a7a7b7-2082-4015-b3bc-831cad5805ec",
   "metadata": {},
   "outputs": [],
   "source": []
  },
  {
   "cell_type": "code",
   "execution_count": null,
   "id": "13d01e67-d744-4545-88df-6b12019f183a",
   "metadata": {},
   "outputs": [],
   "source": []
  },
  {
   "cell_type": "code",
   "execution_count": null,
   "id": "df14860f-0154-4156-95e8-887348d22d2b",
   "metadata": {},
   "outputs": [],
   "source": []
  }
 ],
 "metadata": {
  "kernelspec": {
   "display_name": "AB_test_env",
   "language": "python",
   "name": "ab_test_env"
  },
  "language_info": {
   "codemirror_mode": {
    "name": "ipython",
    "version": 3
   },
   "file_extension": ".py",
   "mimetype": "text/x-python",
   "name": "python",
   "nbconvert_exporter": "python",
   "pygments_lexer": "ipython3",
   "version": "3.11.7"
  }
 },
 "nbformat": 4,
 "nbformat_minor": 5
}
